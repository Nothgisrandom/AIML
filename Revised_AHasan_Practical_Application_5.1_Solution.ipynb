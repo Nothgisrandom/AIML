{
 "cells": [
  {
   "cell_type": "code",
   "execution_count": 326,
   "metadata": {
    "editable": true,
    "id": "dzNoP3o__qRG",
    "slideshow": {
     "slide_type": ""
    },
    "tags": []
   },
   "outputs": [],
   "source": [
    "import matplotlib.pyplot as plt\n",
    "import seaborn as sns\n",
    "import pandas as pd\n",
    "import numpy as np"
   ]
  },
  {
   "cell_type": "code",
   "execution_count": 328,
   "metadata": {
    "editable": true,
    "id": "X0vbffYg_qRH",
    "slideshow": {
     "slide_type": ""
    },
    "tags": []
   },
   "outputs": [
    {
     "data": {
      "text/html": [
       "<div>\n",
       "<style scoped>\n",
       "    .dataframe tbody tr th:only-of-type {\n",
       "        vertical-align: middle;\n",
       "    }\n",
       "\n",
       "    .dataframe tbody tr th {\n",
       "        vertical-align: top;\n",
       "    }\n",
       "\n",
       "    .dataframe thead th {\n",
       "        text-align: right;\n",
       "    }\n",
       "</style>\n",
       "<table border=\"1\" class=\"dataframe\">\n",
       "  <thead>\n",
       "    <tr style=\"text-align: right;\">\n",
       "      <th></th>\n",
       "      <th>destination</th>\n",
       "      <th>passanger</th>\n",
       "      <th>weather</th>\n",
       "      <th>temperature</th>\n",
       "      <th>time</th>\n",
       "      <th>coupon</th>\n",
       "      <th>expiration</th>\n",
       "      <th>gender</th>\n",
       "      <th>age</th>\n",
       "      <th>maritalStatus</th>\n",
       "      <th>...</th>\n",
       "      <th>CoffeeHouse</th>\n",
       "      <th>CarryAway</th>\n",
       "      <th>RestaurantLessThan20</th>\n",
       "      <th>Restaurant20To50</th>\n",
       "      <th>toCoupon_GEQ5min</th>\n",
       "      <th>toCoupon_GEQ15min</th>\n",
       "      <th>toCoupon_GEQ25min</th>\n",
       "      <th>direction_same</th>\n",
       "      <th>direction_opp</th>\n",
       "      <th>Y</th>\n",
       "    </tr>\n",
       "  </thead>\n",
       "  <tbody>\n",
       "    <tr>\n",
       "      <th>4517</th>\n",
       "      <td>Home</td>\n",
       "      <td>Alone</td>\n",
       "      <td>Sunny</td>\n",
       "      <td>80</td>\n",
       "      <td>10PM</td>\n",
       "      <td>Carry out &amp; Take away</td>\n",
       "      <td>1d</td>\n",
       "      <td>Female</td>\n",
       "      <td>36</td>\n",
       "      <td>Unmarried partner</td>\n",
       "      <td>...</td>\n",
       "      <td>gt8</td>\n",
       "      <td>4~8</td>\n",
       "      <td>gt8</td>\n",
       "      <td>1~3</td>\n",
       "      <td>1</td>\n",
       "      <td>0</td>\n",
       "      <td>0</td>\n",
       "      <td>1</td>\n",
       "      <td>0</td>\n",
       "      <td>0</td>\n",
       "    </tr>\n",
       "    <tr>\n",
       "      <th>7674</th>\n",
       "      <td>No Urgent Place</td>\n",
       "      <td>Alone</td>\n",
       "      <td>Sunny</td>\n",
       "      <td>80</td>\n",
       "      <td>10AM</td>\n",
       "      <td>Coffee House</td>\n",
       "      <td>1d</td>\n",
       "      <td>Male</td>\n",
       "      <td>36</td>\n",
       "      <td>Single</td>\n",
       "      <td>...</td>\n",
       "      <td>never</td>\n",
       "      <td>1~3</td>\n",
       "      <td>less1</td>\n",
       "      <td>less1</td>\n",
       "      <td>1</td>\n",
       "      <td>0</td>\n",
       "      <td>0</td>\n",
       "      <td>0</td>\n",
       "      <td>1</td>\n",
       "      <td>0</td>\n",
       "    </tr>\n",
       "    <tr>\n",
       "      <th>8137</th>\n",
       "      <td>Home</td>\n",
       "      <td>Alone</td>\n",
       "      <td>Rainy</td>\n",
       "      <td>55</td>\n",
       "      <td>10PM</td>\n",
       "      <td>Coffee House</td>\n",
       "      <td>1d</td>\n",
       "      <td>Male</td>\n",
       "      <td>31</td>\n",
       "      <td>Single</td>\n",
       "      <td>...</td>\n",
       "      <td>never</td>\n",
       "      <td>gt8</td>\n",
       "      <td>1~3</td>\n",
       "      <td>never</td>\n",
       "      <td>1</td>\n",
       "      <td>0</td>\n",
       "      <td>0</td>\n",
       "      <td>1</td>\n",
       "      <td>0</td>\n",
       "      <td>0</td>\n",
       "    </tr>\n",
       "    <tr>\n",
       "      <th>3386</th>\n",
       "      <td>No Urgent Place</td>\n",
       "      <td>Friend(s)</td>\n",
       "      <td>Sunny</td>\n",
       "      <td>80</td>\n",
       "      <td>2PM</td>\n",
       "      <td>Coffee House</td>\n",
       "      <td>1d</td>\n",
       "      <td>Male</td>\n",
       "      <td>50plus</td>\n",
       "      <td>Married partner</td>\n",
       "      <td>...</td>\n",
       "      <td>less1</td>\n",
       "      <td>gt8</td>\n",
       "      <td>gt8</td>\n",
       "      <td>1~3</td>\n",
       "      <td>1</td>\n",
       "      <td>1</td>\n",
       "      <td>0</td>\n",
       "      <td>0</td>\n",
       "      <td>1</td>\n",
       "      <td>0</td>\n",
       "    </tr>\n",
       "    <tr>\n",
       "      <th>313</th>\n",
       "      <td>No Urgent Place</td>\n",
       "      <td>Kid(s)</td>\n",
       "      <td>Sunny</td>\n",
       "      <td>55</td>\n",
       "      <td>6PM</td>\n",
       "      <td>Coffee House</td>\n",
       "      <td>2h</td>\n",
       "      <td>Male</td>\n",
       "      <td>41</td>\n",
       "      <td>Married partner</td>\n",
       "      <td>...</td>\n",
       "      <td>1~3</td>\n",
       "      <td>1~3</td>\n",
       "      <td>1~3</td>\n",
       "      <td>less1</td>\n",
       "      <td>1</td>\n",
       "      <td>1</td>\n",
       "      <td>0</td>\n",
       "      <td>0</td>\n",
       "      <td>1</td>\n",
       "      <td>0</td>\n",
       "    </tr>\n",
       "    <tr>\n",
       "      <th>5258</th>\n",
       "      <td>Work</td>\n",
       "      <td>Alone</td>\n",
       "      <td>Sunny</td>\n",
       "      <td>55</td>\n",
       "      <td>7AM</td>\n",
       "      <td>Coffee House</td>\n",
       "      <td>1d</td>\n",
       "      <td>Female</td>\n",
       "      <td>26</td>\n",
       "      <td>Unmarried partner</td>\n",
       "      <td>...</td>\n",
       "      <td>less1</td>\n",
       "      <td>1~3</td>\n",
       "      <td>less1</td>\n",
       "      <td>never</td>\n",
       "      <td>1</td>\n",
       "      <td>1</td>\n",
       "      <td>0</td>\n",
       "      <td>0</td>\n",
       "      <td>1</td>\n",
       "      <td>0</td>\n",
       "    </tr>\n",
       "    <tr>\n",
       "      <th>4598</th>\n",
       "      <td>No Urgent Place</td>\n",
       "      <td>Partner</td>\n",
       "      <td>Sunny</td>\n",
       "      <td>80</td>\n",
       "      <td>6PM</td>\n",
       "      <td>Restaurant(&lt;20)</td>\n",
       "      <td>1d</td>\n",
       "      <td>Male</td>\n",
       "      <td>36</td>\n",
       "      <td>Married partner</td>\n",
       "      <td>...</td>\n",
       "      <td>never</td>\n",
       "      <td>1~3</td>\n",
       "      <td>1~3</td>\n",
       "      <td>less1</td>\n",
       "      <td>1</td>\n",
       "      <td>0</td>\n",
       "      <td>0</td>\n",
       "      <td>0</td>\n",
       "      <td>1</td>\n",
       "      <td>1</td>\n",
       "    </tr>\n",
       "    <tr>\n",
       "      <th>2310</th>\n",
       "      <td>Work</td>\n",
       "      <td>Alone</td>\n",
       "      <td>Sunny</td>\n",
       "      <td>55</td>\n",
       "      <td>7AM</td>\n",
       "      <td>Bar</td>\n",
       "      <td>1d</td>\n",
       "      <td>Male</td>\n",
       "      <td>50plus</td>\n",
       "      <td>Married partner</td>\n",
       "      <td>...</td>\n",
       "      <td>gt8</td>\n",
       "      <td>never</td>\n",
       "      <td>4~8</td>\n",
       "      <td>less1</td>\n",
       "      <td>1</td>\n",
       "      <td>1</td>\n",
       "      <td>1</td>\n",
       "      <td>0</td>\n",
       "      <td>1</td>\n",
       "      <td>0</td>\n",
       "    </tr>\n",
       "    <tr>\n",
       "      <th>10071</th>\n",
       "      <td>Work</td>\n",
       "      <td>Alone</td>\n",
       "      <td>Rainy</td>\n",
       "      <td>55</td>\n",
       "      <td>7AM</td>\n",
       "      <td>Carry out &amp; Take away</td>\n",
       "      <td>2h</td>\n",
       "      <td>Female</td>\n",
       "      <td>50plus</td>\n",
       "      <td>Single</td>\n",
       "      <td>...</td>\n",
       "      <td>1~3</td>\n",
       "      <td>less1</td>\n",
       "      <td>1~3</td>\n",
       "      <td>less1</td>\n",
       "      <td>1</td>\n",
       "      <td>1</td>\n",
       "      <td>0</td>\n",
       "      <td>1</td>\n",
       "      <td>0</td>\n",
       "      <td>0</td>\n",
       "    </tr>\n",
       "    <tr>\n",
       "      <th>12330</th>\n",
       "      <td>No Urgent Place</td>\n",
       "      <td>Friend(s)</td>\n",
       "      <td>Sunny</td>\n",
       "      <td>80</td>\n",
       "      <td>10PM</td>\n",
       "      <td>Bar</td>\n",
       "      <td>1d</td>\n",
       "      <td>Male</td>\n",
       "      <td>31</td>\n",
       "      <td>Married partner</td>\n",
       "      <td>...</td>\n",
       "      <td>never</td>\n",
       "      <td>1~3</td>\n",
       "      <td>1~3</td>\n",
       "      <td>1~3</td>\n",
       "      <td>1</td>\n",
       "      <td>1</td>\n",
       "      <td>0</td>\n",
       "      <td>0</td>\n",
       "      <td>1</td>\n",
       "      <td>0</td>\n",
       "    </tr>\n",
       "  </tbody>\n",
       "</table>\n",
       "<p>10 rows × 26 columns</p>\n",
       "</div>"
      ],
      "text/plain": [
       "           destination  passanger weather  temperature  time  \\\n",
       "4517              Home      Alone   Sunny           80  10PM   \n",
       "7674   No Urgent Place      Alone   Sunny           80  10AM   \n",
       "8137              Home      Alone   Rainy           55  10PM   \n",
       "3386   No Urgent Place  Friend(s)   Sunny           80   2PM   \n",
       "313    No Urgent Place     Kid(s)   Sunny           55   6PM   \n",
       "5258              Work      Alone   Sunny           55   7AM   \n",
       "4598   No Urgent Place    Partner   Sunny           80   6PM   \n",
       "2310              Work      Alone   Sunny           55   7AM   \n",
       "10071             Work      Alone   Rainy           55   7AM   \n",
       "12330  No Urgent Place  Friend(s)   Sunny           80  10PM   \n",
       "\n",
       "                      coupon expiration  gender     age      maritalStatus  \\\n",
       "4517   Carry out & Take away         1d  Female      36  Unmarried partner   \n",
       "7674            Coffee House         1d    Male      36             Single   \n",
       "8137            Coffee House         1d    Male      31             Single   \n",
       "3386            Coffee House         1d    Male  50plus    Married partner   \n",
       "313             Coffee House         2h    Male      41    Married partner   \n",
       "5258            Coffee House         1d  Female      26  Unmarried partner   \n",
       "4598         Restaurant(<20)         1d    Male      36    Married partner   \n",
       "2310                     Bar         1d    Male  50plus    Married partner   \n",
       "10071  Carry out & Take away         2h  Female  50plus             Single   \n",
       "12330                    Bar         1d    Male      31    Married partner   \n",
       "\n",
       "       ...  CoffeeHouse CarryAway RestaurantLessThan20 Restaurant20To50  \\\n",
       "4517   ...          gt8       4~8                  gt8              1~3   \n",
       "7674   ...        never       1~3                less1            less1   \n",
       "8137   ...        never       gt8                  1~3            never   \n",
       "3386   ...        less1       gt8                  gt8              1~3   \n",
       "313    ...          1~3       1~3                  1~3            less1   \n",
       "5258   ...        less1       1~3                less1            never   \n",
       "4598   ...        never       1~3                  1~3            less1   \n",
       "2310   ...          gt8     never                  4~8            less1   \n",
       "10071  ...          1~3     less1                  1~3            less1   \n",
       "12330  ...        never       1~3                  1~3              1~3   \n",
       "\n",
       "      toCoupon_GEQ5min toCoupon_GEQ15min toCoupon_GEQ25min direction_same  \\\n",
       "4517                 1                 0                 0              1   \n",
       "7674                 1                 0                 0              0   \n",
       "8137                 1                 0                 0              1   \n",
       "3386                 1                 1                 0              0   \n",
       "313                  1                 1                 0              0   \n",
       "5258                 1                 1                 0              0   \n",
       "4598                 1                 0                 0              0   \n",
       "2310                 1                 1                 1              0   \n",
       "10071                1                 1                 0              1   \n",
       "12330                1                 1                 0              0   \n",
       "\n",
       "      direction_opp  Y  \n",
       "4517              0  0  \n",
       "7674              1  0  \n",
       "8137              0  0  \n",
       "3386              1  0  \n",
       "313               1  0  \n",
       "5258              1  0  \n",
       "4598              1  1  \n",
       "2310              1  0  \n",
       "10071             0  0  \n",
       "12330             1  0  \n",
       "\n",
       "[10 rows x 26 columns]"
      ]
     },
     "execution_count": 328,
     "metadata": {},
     "output_type": "execute_result"
    }
   ],
   "source": [
    "data = pd.read_csv('data/coupons.csv')\n",
    "# data.head()\n",
    "data.sample(10)"
   ]
  },
  {
   "cell_type": "code",
   "execution_count": 9,
   "metadata": {
    "editable": true,
    "id": "TXofQ_DF_qRH",
    "outputId": "2fc96a2c-1112-4b54-f24f-dbb9bc88abfb",
    "slideshow": {
     "slide_type": ""
    },
    "tags": []
   },
   "outputs": [
    {
     "name": "stdout",
     "output_type": "stream",
     "text": [
      "<class 'pandas.core.frame.DataFrame'>\n",
      "RangeIndex: 12684 entries, 0 to 12683\n",
      "Data columns (total 26 columns):\n",
      " #   Column                Non-Null Count  Dtype \n",
      "---  ------                --------------  ----- \n",
      " 0   destination           12684 non-null  object\n",
      " 1   passanger             12684 non-null  object\n",
      " 2   weather               12684 non-null  object\n",
      " 3   temperature           12684 non-null  int64 \n",
      " 4   time                  12684 non-null  object\n",
      " 5   coupon                12684 non-null  object\n",
      " 6   expiration            12684 non-null  object\n",
      " 7   gender                12684 non-null  object\n",
      " 8   age                   12684 non-null  object\n",
      " 9   maritalStatus         12684 non-null  object\n",
      " 10  has_children          12684 non-null  int64 \n",
      " 11  education             12684 non-null  object\n",
      " 12  occupation            12684 non-null  object\n",
      " 13  income                12684 non-null  object\n",
      " 14  car                   108 non-null    object\n",
      " 15  Bar                   12577 non-null  object\n",
      " 16  CoffeeHouse           12467 non-null  object\n",
      " 17  CarryAway             12533 non-null  object\n",
      " 18  RestaurantLessThan20  12554 non-null  object\n",
      " 19  Restaurant20To50      12495 non-null  object\n",
      " 20  toCoupon_GEQ5min      12684 non-null  int64 \n",
      " 21  toCoupon_GEQ15min     12684 non-null  int64 \n",
      " 22  toCoupon_GEQ25min     12684 non-null  int64 \n",
      " 23  direction_same        12684 non-null  int64 \n",
      " 24  direction_opp         12684 non-null  int64 \n",
      " 25  Y                     12684 non-null  int64 \n",
      "dtypes: int64(8), object(18)\n",
      "memory usage: 2.5+ MB\n"
     ]
    },
    {
     "data": {
      "text/html": [
       "<div>\n",
       "<style scoped>\n",
       "    .dataframe tbody tr th:only-of-type {\n",
       "        vertical-align: middle;\n",
       "    }\n",
       "\n",
       "    .dataframe tbody tr th {\n",
       "        vertical-align: top;\n",
       "    }\n",
       "\n",
       "    .dataframe thead th {\n",
       "        text-align: right;\n",
       "    }\n",
       "</style>\n",
       "<table border=\"1\" class=\"dataframe\">\n",
       "  <thead>\n",
       "    <tr style=\"text-align: right;\">\n",
       "      <th></th>\n",
       "      <th>temperature</th>\n",
       "      <th>has_children</th>\n",
       "      <th>toCoupon_GEQ5min</th>\n",
       "      <th>toCoupon_GEQ15min</th>\n",
       "      <th>toCoupon_GEQ25min</th>\n",
       "      <th>direction_same</th>\n",
       "      <th>direction_opp</th>\n",
       "      <th>Y</th>\n",
       "    </tr>\n",
       "  </thead>\n",
       "  <tbody>\n",
       "    <tr>\n",
       "      <th>count</th>\n",
       "      <td>12684.000000</td>\n",
       "      <td>12684.000000</td>\n",
       "      <td>12684.0</td>\n",
       "      <td>12684.000000</td>\n",
       "      <td>12684.000000</td>\n",
       "      <td>12684.000000</td>\n",
       "      <td>12684.000000</td>\n",
       "      <td>12684.000000</td>\n",
       "    </tr>\n",
       "    <tr>\n",
       "      <th>mean</th>\n",
       "      <td>63.301798</td>\n",
       "      <td>0.414144</td>\n",
       "      <td>1.0</td>\n",
       "      <td>0.561495</td>\n",
       "      <td>0.119126</td>\n",
       "      <td>0.214759</td>\n",
       "      <td>0.785241</td>\n",
       "      <td>0.568433</td>\n",
       "    </tr>\n",
       "    <tr>\n",
       "      <th>std</th>\n",
       "      <td>19.154486</td>\n",
       "      <td>0.492593</td>\n",
       "      <td>0.0</td>\n",
       "      <td>0.496224</td>\n",
       "      <td>0.323950</td>\n",
       "      <td>0.410671</td>\n",
       "      <td>0.410671</td>\n",
       "      <td>0.495314</td>\n",
       "    </tr>\n",
       "    <tr>\n",
       "      <th>min</th>\n",
       "      <td>30.000000</td>\n",
       "      <td>0.000000</td>\n",
       "      <td>1.0</td>\n",
       "      <td>0.000000</td>\n",
       "      <td>0.000000</td>\n",
       "      <td>0.000000</td>\n",
       "      <td>0.000000</td>\n",
       "      <td>0.000000</td>\n",
       "    </tr>\n",
       "    <tr>\n",
       "      <th>25%</th>\n",
       "      <td>55.000000</td>\n",
       "      <td>0.000000</td>\n",
       "      <td>1.0</td>\n",
       "      <td>0.000000</td>\n",
       "      <td>0.000000</td>\n",
       "      <td>0.000000</td>\n",
       "      <td>1.000000</td>\n",
       "      <td>0.000000</td>\n",
       "    </tr>\n",
       "    <tr>\n",
       "      <th>50%</th>\n",
       "      <td>80.000000</td>\n",
       "      <td>0.000000</td>\n",
       "      <td>1.0</td>\n",
       "      <td>1.000000</td>\n",
       "      <td>0.000000</td>\n",
       "      <td>0.000000</td>\n",
       "      <td>1.000000</td>\n",
       "      <td>1.000000</td>\n",
       "    </tr>\n",
       "    <tr>\n",
       "      <th>75%</th>\n",
       "      <td>80.000000</td>\n",
       "      <td>1.000000</td>\n",
       "      <td>1.0</td>\n",
       "      <td>1.000000</td>\n",
       "      <td>0.000000</td>\n",
       "      <td>0.000000</td>\n",
       "      <td>1.000000</td>\n",
       "      <td>1.000000</td>\n",
       "    </tr>\n",
       "    <tr>\n",
       "      <th>max</th>\n",
       "      <td>80.000000</td>\n",
       "      <td>1.000000</td>\n",
       "      <td>1.0</td>\n",
       "      <td>1.000000</td>\n",
       "      <td>1.000000</td>\n",
       "      <td>1.000000</td>\n",
       "      <td>1.000000</td>\n",
       "      <td>1.000000</td>\n",
       "    </tr>\n",
       "  </tbody>\n",
       "</table>\n",
       "</div>"
      ],
      "text/plain": [
       "        temperature  has_children  toCoupon_GEQ5min  toCoupon_GEQ15min  \\\n",
       "count  12684.000000  12684.000000           12684.0       12684.000000   \n",
       "mean      63.301798      0.414144               1.0           0.561495   \n",
       "std       19.154486      0.492593               0.0           0.496224   \n",
       "min       30.000000      0.000000               1.0           0.000000   \n",
       "25%       55.000000      0.000000               1.0           0.000000   \n",
       "50%       80.000000      0.000000               1.0           1.000000   \n",
       "75%       80.000000      1.000000               1.0           1.000000   \n",
       "max       80.000000      1.000000               1.0           1.000000   \n",
       "\n",
       "       toCoupon_GEQ25min  direction_same  direction_opp             Y  \n",
       "count       12684.000000    12684.000000   12684.000000  12684.000000  \n",
       "mean            0.119126        0.214759       0.785241      0.568433  \n",
       "std             0.323950        0.410671       0.410671      0.495314  \n",
       "min             0.000000        0.000000       0.000000      0.000000  \n",
       "25%             0.000000        0.000000       1.000000      0.000000  \n",
       "50%             0.000000        0.000000       1.000000      1.000000  \n",
       "75%             0.000000        0.000000       1.000000      1.000000  \n",
       "max             1.000000        1.000000       1.000000      1.000000  "
      ]
     },
     "execution_count": 9,
     "metadata": {},
     "output_type": "execute_result"
    }
   ],
   "source": [
    "data.info()\n",
    "data.describe()"
   ]
  },
  {
   "cell_type": "code",
   "execution_count": 330,
   "metadata": {
    "editable": true,
    "slideshow": {
     "slide_type": ""
    },
    "tags": []
   },
   "outputs": [
    {
     "data": {
      "text/plain": [
       "car                     99.0\n",
       "CoffeeHouse              2.0\n",
       "Restaurant20To50         1.0\n",
       "RestaurantLessThan20     1.0\n",
       "CarryAway                1.0\n",
       "Bar                      1.0\n",
       "destination              0.0\n",
       "passanger                0.0\n",
       "direction_opp            0.0\n",
       "direction_same           0.0\n",
       "toCoupon_GEQ25min        0.0\n",
       "toCoupon_GEQ15min        0.0\n",
       "toCoupon_GEQ5min         0.0\n",
       "income                   0.0\n",
       "occupation               0.0\n",
       "education                0.0\n",
       "has_children             0.0\n",
       "maritalStatus            0.0\n",
       "age                      0.0\n",
       "gender                   0.0\n",
       "expiration               0.0\n",
       "coupon                   0.0\n",
       "time                     0.0\n",
       "temperature              0.0\n",
       "weather                  0.0\n",
       "Y                        0.0\n",
       "dtype: float64"
      ]
     },
     "execution_count": 330,
     "metadata": {},
     "output_type": "execute_result"
    }
   ],
   "source": [
    "## Getting counts and percentages of missing values for each column\n",
    "data.isna().sum()\n",
    "data.isna().mean().round(2).multiply(100).sort_values(ascending= False)\n",
    "## The variable car is virtually empty (99%) missing so I will ignore it from now on. \n",
    "## CoffeeHouse, Restaurant20To50, RestaurantLessThan20,  CarryAway, Bar     have 1-2% missingness rate            "
   ]
  },
  {
   "cell_type": "code",
   "execution_count": 332,
   "metadata": {
    "editable": true,
    "id": "6CwL6oWj_qRH",
    "scrolled": true,
    "slideshow": {
     "slide_type": ""
    },
    "tags": []
   },
   "outputs": [
    {
     "data": {
      "image/png": "[encoded data removed]",
      "text/plain": [
       "<Figure size 400x300 with 1 Axes>"
      ]
     },
     "metadata": {},
     "output_type": "display_data"
    }
   ],
   "source": [
    "## Visualize the relative frequency of missing data with a bar plot for each variable.\n",
    "plt.rcParams['figure.figsize'] = [4,3]\n",
    "Missing_Rate= data.isna().mean().round(2).multiply(100).sort_values(ascending= False)\n",
    "Missing_Rate.plot(kind = \"bar\").set(title='99% of the \"car\" Variable is Missing');"
   ]
  },
  {
   "cell_type": "code",
   "execution_count": 338,
   "metadata": {
    "editable": true,
    "slideshow": {
     "slide_type": ""
    },
    "tags": []
   },
   "outputs": [
    {
     "data": {
      "image/png": "[encoded data removed]",
      "text/plain": [
       "<Figure size 400x300 with 2 Axes>"
      ]
     },
     "metadata": {},
     "output_type": "display_data"
    }
   ],
   "source": [
    "## Using a heat map to see if the missing data occur at random\n",
    "sns.heatmap(data.isna()).set(title='Distribution of Missing Data');\n",
    "## I do not see a problematic trend of clustered missing values so I think they might be missing at random \n",
    "plt.savefig('MissingData.png')"
   ]
  },
  {
   "cell_type": "code",
   "execution_count": 343,
   "metadata": {
    "editable": true,
    "id": "tyvoAC5F_qRI",
    "slideshow": {
     "slide_type": ""
    },
    "tags": []
   },
   "outputs": [
    {
     "data": {
      "text/plain": [
       "car                     0.991485\n",
       "destination             0.000000\n",
       "passanger               0.000000\n",
       "direction_opp           0.000000\n",
       "direction_same          0.000000\n",
       "toCoupon_GEQ25min       0.000000\n",
       "toCoupon_GEQ15min       0.000000\n",
       "toCoupon_GEQ5min        0.000000\n",
       "Restaurant20To50        0.000000\n",
       "RestaurantLessThan20    0.000000\n",
       "CarryAway               0.000000\n",
       "CoffeeHouse             0.000000\n",
       "Bar                     0.000000\n",
       "income                  0.000000\n",
       "occupation              0.000000\n",
       "education               0.000000\n",
       "has_children            0.000000\n",
       "maritalStatus           0.000000\n",
       "age                     0.000000\n",
       "gender                  0.000000\n",
       "expiration              0.000000\n",
       "coupon                  0.000000\n",
       "time                    0.000000\n",
       "temperature             0.000000\n",
       "weather                 0.000000\n",
       "Y                       0.000000\n",
       "dtype: float64"
      ]
     },
     "execution_count": 343,
     "metadata": {},
     "output_type": "execute_result"
    }
   ],
   "source": [
    "## I will ignore the column labeled car and fill NA's with the mode because the variables are categorical. \n",
    "\n",
    "# Fill missing values in the \"Bar\" column with the mode beacause they are all categorical\n",
    "\n",
    "data[\"Bar\"].fillna(data[\"Bar\"].mode().iloc[0], inplace=True)\n",
    "data[\"CoffeeHouse\"].fillna(data[\"CoffeeHouse\"].mode().iloc[0], inplace=True)\n",
    "data[\"CarryAway\"].fillna(data[\"CarryAway\"].mode().iloc[0], inplace=True)\n",
    "data[\"RestaurantLessThan20\"].fillna(data[\"RestaurantLessThan20\"].mode().iloc[0], inplace=True)\n",
    "data[\"Restaurant20To50\"].fillna(data[\"Restaurant20To50\"].mode().iloc[0], inplace=True)\n",
    "## \n",
    "## Verify that there are no more missing values except for the car variable\n",
    "data.isna().mean().sort_values(ascending=False)\n"
   ]
  },
  {
   "cell_type": "code",
   "execution_count": 345,
   "metadata": {},
   "outputs": [
    {
     "name": "stdout",
     "output_type": "stream",
     "text": [
      "<class 'pandas.core.frame.DataFrame'>\n",
      "Index: 12683 entries, 0 to 12683\n",
      "Data columns (total 26 columns):\n",
      " #   Column                Non-Null Count  Dtype \n",
      "---  ------                --------------  ----- \n",
      " 0   destination           12683 non-null  object\n",
      " 1   passanger             12683 non-null  object\n",
      " 2   weather               12683 non-null  object\n",
      " 3   temperature           12683 non-null  int64 \n",
      " 4   time                  12683 non-null  object\n",
      " 5   coupon                12683 non-null  object\n",
      " 6   expiration            12683 non-null  object\n",
      " 7   gender                12683 non-null  object\n",
      " 8   age                   12683 non-null  object\n",
      " 9   maritalStatus         12683 non-null  object\n",
      " 10  has_children          12683 non-null  int64 \n",
      " 11  education             12683 non-null  object\n",
      " 12  occupation            12683 non-null  object\n",
      " 13  income                12683 non-null  object\n",
      " 14  car                   108 non-null    object\n",
      " 15  Bar                   12683 non-null  object\n",
      " 16  CoffeeHouse           12683 non-null  object\n",
      " 17  CarryAway             12683 non-null  object\n",
      " 18  RestaurantLessThan20  12683 non-null  object\n",
      " 19  Restaurant20To50      12683 non-null  object\n",
      " 20  toCoupon_GEQ5min      12683 non-null  int64 \n",
      " 21  toCoupon_GEQ15min     12683 non-null  int64 \n",
      " 22  toCoupon_GEQ25min     12683 non-null  int64 \n",
      " 23  direction_same        12683 non-null  int64 \n",
      " 24  direction_opp         12683 non-null  int64 \n",
      " 25  Y                     12683 non-null  int64 \n",
      "dtypes: int64(8), object(18)\n",
      "memory usage: 2.6+ MB\n"
     ]
    }
   ],
   "source": [
    "data.duplicated().sum()\n",
    "# Drop row #74  \n",
    "data = data.drop(74)\n",
    "data.info()"
   ]
  },
  {
   "cell_type": "code",
   "execution_count": 347,
   "metadata": {
    "editable": true,
    "id": "86GGqBTv_qRI",
    "slideshow": {
     "slide_type": ""
    },
    "tags": []
   },
   "outputs": [
    {
     "name": "stdout",
     "output_type": "stream",
     "text": [
      "The overall acceptance rate= 56.8 %\n"
     ]
    }
   ],
   "source": [
    "acceptance_rate= data[\"Y\"].mean().round(3)\n",
    "# Print results with descriptive text\n",
    "\n",
    "print(f\"The overall acceptance rate= {acceptance_rate*100} %\")\n"
   ]
  },
  {
   "cell_type": "code",
   "execution_count": 349,
   "metadata": {
    "id": "dHFh3E45_qRI"
   },
   "outputs": [
    {
     "data": {
      "text/plain": [
       "coupon\n",
       "Coffee House             3996\n",
       "Restaurant(<20)          2786\n",
       "Carry out & Take away    2392\n",
       "Bar                      2017\n",
       "Restaurant(20-50)        1492\n",
       "Name: count, dtype: int64"
      ]
     },
     "metadata": {},
     "output_type": "display_data"
    },
    {
     "data": {
      "image/png": "[encoded data removed]",
      "text/plain": [
       "<Figure size 400x300 with 1 Axes>"
      ]
     },
     "metadata": {},
     "output_type": "display_data"
    }
   ],
   "source": [
    "display(data['coupon'].value_counts())\n",
    "data['coupon'].value_counts().plot(kind = \"bar\");"
   ]
  },
  {
   "cell_type": "code",
   "execution_count": 351,
   "metadata": {
    "id": "Yg9Anv71_qRI"
   },
   "outputs": [
    {
     "data": {
      "text/plain": [
       "[Text(0.5, 1.0, 'Distribution of The Temperature Variable')]"
      ]
     },
     "execution_count": 351,
     "metadata": {},
     "output_type": "execute_result"
    },
    {
     "data": {
      "image/png": "[encoded data removed]",
      "text/plain": [
       "<Figure size 400x300 with 1 Axes>"
      ]
     },
     "metadata": {},
     "output_type": "display_data"
    }
   ],
   "source": [
    "data['temperature'].plot(kind=\"hist\").set(title=\"Distribution of The Temperature Variable\")"
   ]
  },
  {
   "cell_type": "markdown",
   "metadata": {},
   "source": [
    "## Summary of Categorical Variables"
   ]
  },
  {
   "cell_type": "code",
   "execution_count": 353,
   "metadata": {
    "id": "zLtOaJQk_qRI"
   },
   "outputs": [
    {
     "data": {
      "text/html": [
       "<div>\n",
       "<style scoped>\n",
       "    .dataframe tbody tr th:only-of-type {\n",
       "        vertical-align: middle;\n",
       "    }\n",
       "\n",
       "    .dataframe tbody tr th {\n",
       "        vertical-align: top;\n",
       "    }\n",
       "\n",
       "    .dataframe thead th {\n",
       "        text-align: right;\n",
       "    }\n",
       "</style>\n",
       "<table border=\"1\" class=\"dataframe\">\n",
       "  <thead>\n",
       "    <tr style=\"text-align: right;\">\n",
       "      <th></th>\n",
       "      <th>destination</th>\n",
       "      <th>passanger</th>\n",
       "      <th>weather</th>\n",
       "      <th>time</th>\n",
       "      <th>coupon</th>\n",
       "      <th>expiration</th>\n",
       "      <th>gender</th>\n",
       "      <th>age</th>\n",
       "      <th>maritalStatus</th>\n",
       "      <th>education</th>\n",
       "      <th>occupation</th>\n",
       "      <th>income</th>\n",
       "      <th>car</th>\n",
       "      <th>Bar</th>\n",
       "      <th>CoffeeHouse</th>\n",
       "      <th>CarryAway</th>\n",
       "      <th>RestaurantLessThan20</th>\n",
       "      <th>Restaurant20To50</th>\n",
       "    </tr>\n",
       "  </thead>\n",
       "  <tbody>\n",
       "    <tr>\n",
       "      <th>count</th>\n",
       "      <td>12683</td>\n",
       "      <td>12683</td>\n",
       "      <td>12683</td>\n",
       "      <td>12683</td>\n",
       "      <td>12683</td>\n",
       "      <td>12683</td>\n",
       "      <td>12683</td>\n",
       "      <td>12683</td>\n",
       "      <td>12683</td>\n",
       "      <td>12683</td>\n",
       "      <td>12683</td>\n",
       "      <td>12683</td>\n",
       "      <td>108</td>\n",
       "      <td>12683</td>\n",
       "      <td>12683</td>\n",
       "      <td>12683</td>\n",
       "      <td>12683</td>\n",
       "      <td>12683</td>\n",
       "    </tr>\n",
       "    <tr>\n",
       "      <th>unique</th>\n",
       "      <td>3</td>\n",
       "      <td>4</td>\n",
       "      <td>3</td>\n",
       "      <td>5</td>\n",
       "      <td>5</td>\n",
       "      <td>2</td>\n",
       "      <td>2</td>\n",
       "      <td>8</td>\n",
       "      <td>5</td>\n",
       "      <td>6</td>\n",
       "      <td>25</td>\n",
       "      <td>9</td>\n",
       "      <td>5</td>\n",
       "      <td>5</td>\n",
       "      <td>5</td>\n",
       "      <td>5</td>\n",
       "      <td>5</td>\n",
       "      <td>5</td>\n",
       "    </tr>\n",
       "    <tr>\n",
       "      <th>top</th>\n",
       "      <td>No Urgent Place</td>\n",
       "      <td>Alone</td>\n",
       "      <td>Sunny</td>\n",
       "      <td>6PM</td>\n",
       "      <td>Coffee House</td>\n",
       "      <td>1d</td>\n",
       "      <td>Female</td>\n",
       "      <td>21</td>\n",
       "      <td>Married partner</td>\n",
       "      <td>Some college - no degree</td>\n",
       "      <td>Unemployed</td>\n",
       "      <td>$25000 - $37499</td>\n",
       "      <td>Scooter and motorcycle</td>\n",
       "      <td>never</td>\n",
       "      <td>less1</td>\n",
       "      <td>1~3</td>\n",
       "      <td>1~3</td>\n",
       "      <td>less1</td>\n",
       "    </tr>\n",
       "    <tr>\n",
       "      <th>freq</th>\n",
       "      <td>6282</td>\n",
       "      <td>7305</td>\n",
       "      <td>10068</td>\n",
       "      <td>3230</td>\n",
       "      <td>3996</td>\n",
       "      <td>7091</td>\n",
       "      <td>6511</td>\n",
       "      <td>2653</td>\n",
       "      <td>5099</td>\n",
       "      <td>4351</td>\n",
       "      <td>1870</td>\n",
       "      <td>2013</td>\n",
       "      <td>22</td>\n",
       "      <td>5304</td>\n",
       "      <td>3602</td>\n",
       "      <td>4822</td>\n",
       "      <td>5505</td>\n",
       "      <td>6265</td>\n",
       "    </tr>\n",
       "  </tbody>\n",
       "</table>\n",
       "</div>"
      ],
      "text/plain": [
       "            destination passanger weather   time        coupon expiration  \\\n",
       "count             12683     12683   12683  12683         12683      12683   \n",
       "unique                3         4       3      5             5          2   \n",
       "top     No Urgent Place     Alone   Sunny    6PM  Coffee House         1d   \n",
       "freq               6282      7305   10068   3230          3996       7091   \n",
       "\n",
       "        gender    age    maritalStatus                 education  occupation  \\\n",
       "count    12683  12683            12683                     12683       12683   \n",
       "unique       2      8                5                         6          25   \n",
       "top     Female     21  Married partner  Some college - no degree  Unemployed   \n",
       "freq      6511   2653             5099                      4351        1870   \n",
       "\n",
       "                 income                     car    Bar CoffeeHouse CarryAway  \\\n",
       "count             12683                     108  12683       12683     12683   \n",
       "unique                9                       5      5           5         5   \n",
       "top     $25000 - $37499  Scooter and motorcycle  never       less1       1~3   \n",
       "freq               2013                      22   5304        3602      4822   \n",
       "\n",
       "       RestaurantLessThan20 Restaurant20To50  \n",
       "count                 12683            12683  \n",
       "unique                    5                5  \n",
       "top                     1~3            less1  \n",
       "freq                   5505             6265  "
      ]
     },
     "execution_count": 353,
     "metadata": {},
     "output_type": "execute_result"
    }
   ],
   "source": [
    "## Getting a summary of categorical variables (sample size, number of levels, freq of the most popular response).\n",
    "data.describe(include=\"object\")"
   ]
  },
  {
   "cell_type": "markdown",
   "metadata": {},
   "source": [
    "## Extracting the Bar Copouns"
   ]
  },
  {
   "cell_type": "code",
   "execution_count": 94,
   "metadata": {
    "id": "tMBlWuGq_qRJ"
   },
   "outputs": [
    {
     "data": {
      "text/html": [
       "<div>\n",
       "<style scoped>\n",
       "    .dataframe tbody tr th:only-of-type {\n",
       "        vertical-align: middle;\n",
       "    }\n",
       "\n",
       "    .dataframe tbody tr th {\n",
       "        vertical-align: top;\n",
       "    }\n",
       "\n",
       "    .dataframe thead th {\n",
       "        text-align: right;\n",
       "    }\n",
       "</style>\n",
       "<table border=\"1\" class=\"dataframe\">\n",
       "  <thead>\n",
       "    <tr style=\"text-align: right;\">\n",
       "      <th></th>\n",
       "      <th>temperature</th>\n",
       "      <th>has_children</th>\n",
       "      <th>toCoupon_GEQ5min</th>\n",
       "      <th>toCoupon_GEQ15min</th>\n",
       "      <th>toCoupon_GEQ25min</th>\n",
       "      <th>direction_same</th>\n",
       "      <th>direction_opp</th>\n",
       "      <th>Y</th>\n",
       "    </tr>\n",
       "  </thead>\n",
       "  <tbody>\n",
       "    <tr>\n",
       "      <th>count</th>\n",
       "      <td>2017.000000</td>\n",
       "      <td>2017.000000</td>\n",
       "      <td>2017.0</td>\n",
       "      <td>2017.000000</td>\n",
       "      <td>2017.000000</td>\n",
       "      <td>2017.000000</td>\n",
       "      <td>2017.000000</td>\n",
       "      <td>2017.000000</td>\n",
       "    </tr>\n",
       "    <tr>\n",
       "      <th>mean</th>\n",
       "      <td>57.590481</td>\n",
       "      <td>0.433813</td>\n",
       "      <td>1.0</td>\n",
       "      <td>0.663361</td>\n",
       "      <td>0.252851</td>\n",
       "      <td>0.209222</td>\n",
       "      <td>0.790778</td>\n",
       "      <td>0.410015</td>\n",
       "    </tr>\n",
       "    <tr>\n",
       "      <th>std</th>\n",
       "      <td>17.950408</td>\n",
       "      <td>0.495723</td>\n",
       "      <td>0.0</td>\n",
       "      <td>0.472677</td>\n",
       "      <td>0.434754</td>\n",
       "      <td>0.406854</td>\n",
       "      <td>0.406854</td>\n",
       "      <td>0.491958</td>\n",
       "    </tr>\n",
       "    <tr>\n",
       "      <th>min</th>\n",
       "      <td>30.000000</td>\n",
       "      <td>0.000000</td>\n",
       "      <td>1.0</td>\n",
       "      <td>0.000000</td>\n",
       "      <td>0.000000</td>\n",
       "      <td>0.000000</td>\n",
       "      <td>0.000000</td>\n",
       "      <td>0.000000</td>\n",
       "    </tr>\n",
       "    <tr>\n",
       "      <th>25%</th>\n",
       "      <td>55.000000</td>\n",
       "      <td>0.000000</td>\n",
       "      <td>1.0</td>\n",
       "      <td>0.000000</td>\n",
       "      <td>0.000000</td>\n",
       "      <td>0.000000</td>\n",
       "      <td>1.000000</td>\n",
       "      <td>0.000000</td>\n",
       "    </tr>\n",
       "    <tr>\n",
       "      <th>50%</th>\n",
       "      <td>55.000000</td>\n",
       "      <td>0.000000</td>\n",
       "      <td>1.0</td>\n",
       "      <td>1.000000</td>\n",
       "      <td>0.000000</td>\n",
       "      <td>0.000000</td>\n",
       "      <td>1.000000</td>\n",
       "      <td>0.000000</td>\n",
       "    </tr>\n",
       "    <tr>\n",
       "      <th>75%</th>\n",
       "      <td>80.000000</td>\n",
       "      <td>1.000000</td>\n",
       "      <td>1.0</td>\n",
       "      <td>1.000000</td>\n",
       "      <td>1.000000</td>\n",
       "      <td>0.000000</td>\n",
       "      <td>1.000000</td>\n",
       "      <td>1.000000</td>\n",
       "    </tr>\n",
       "    <tr>\n",
       "      <th>max</th>\n",
       "      <td>80.000000</td>\n",
       "      <td>1.000000</td>\n",
       "      <td>1.0</td>\n",
       "      <td>1.000000</td>\n",
       "      <td>1.000000</td>\n",
       "      <td>1.000000</td>\n",
       "      <td>1.000000</td>\n",
       "      <td>1.000000</td>\n",
       "    </tr>\n",
       "  </tbody>\n",
       "</table>\n",
       "</div>"
      ],
      "text/plain": [
       "       temperature  has_children  toCoupon_GEQ5min  toCoupon_GEQ15min  \\\n",
       "count  2017.000000   2017.000000            2017.0        2017.000000   \n",
       "mean     57.590481      0.433813               1.0           0.663361   \n",
       "std      17.950408      0.495723               0.0           0.472677   \n",
       "min      30.000000      0.000000               1.0           0.000000   \n",
       "25%      55.000000      0.000000               1.0           0.000000   \n",
       "50%      55.000000      0.000000               1.0           1.000000   \n",
       "75%      80.000000      1.000000               1.0           1.000000   \n",
       "max      80.000000      1.000000               1.0           1.000000   \n",
       "\n",
       "       toCoupon_GEQ25min  direction_same  direction_opp            Y  \n",
       "count        2017.000000     2017.000000    2017.000000  2017.000000  \n",
       "mean            0.252851        0.209222       0.790778     0.410015  \n",
       "std             0.434754        0.406854       0.406854     0.491958  \n",
       "min             0.000000        0.000000       0.000000     0.000000  \n",
       "25%             0.000000        0.000000       1.000000     0.000000  \n",
       "50%             0.000000        0.000000       1.000000     0.000000  \n",
       "75%             1.000000        0.000000       1.000000     1.000000  \n",
       "max             1.000000        1.000000       1.000000     1.000000  "
      ]
     },
     "execution_count": 94,
     "metadata": {},
     "output_type": "execute_result"
    }
   ],
   "source": [
    "BarCoupons=data[data[\"coupon\"]==\"Bar\"]\n",
    "BarCoupons.describe()"
   ]
  },
  {
   "cell_type": "code",
   "execution_count": 100,
   "metadata": {
    "id": "hSdte8Mi_qRK"
   },
   "outputs": [
    {
     "name": "stdout",
     "output_type": "stream",
     "text": [
      "Overall bar coupon acceptance rate= 41.0 %\n"
     ]
    }
   ],
   "source": [
    "Bar_acceptance_rate= BarCoupons[\"Y\"].mean().round(2)\n",
    "# Print results with descriptive text\n",
    "print(f\"Overall bar coupon acceptance rate= {Bar_acceptance_rate*100} %\")"
   ]
  },
  {
   "cell_type": "markdown",
   "metadata": {},
   "source": [
    "## Overall bar coupon acceptance rate= 41.0 %"
   ]
  },
  {
   "cell_type": "code",
   "execution_count": 104,
   "metadata": {
    "id": "LBOrN-XM_qRK"
   },
   "outputs": [
    {
     "data": {
      "text/plain": [
       "Bar\n",
       "never    0.193\n",
       "less1    0.444\n",
       "1~3      0.647\n",
       "gt8      0.735\n",
       "4~8      0.780\n",
       "Name: Y, dtype: float64"
      ]
     },
     "execution_count": 104,
     "metadata": {},
     "output_type": "execute_result"
    }
   ],
   "source": [
    "## Frequency table of the Bar Variable\n",
    "BarCoupons.groupby(\"Bar\")[\"Y\"].mean().round(3).sort_values()"
   ]
  },
  {
   "cell_type": "code",
   "execution_count": 118,
   "metadata": {
    "editable": true,
    "slideshow": {
     "slide_type": ""
    },
    "tags": []
   },
   "outputs": [
    {
     "name": "stdout",
     "output_type": "stream",
     "text": [
      "Acceptance rate for drivers who go to a bar more than once a month and are over the age of 25= 70.0 %\n",
      "Acceptance rate for drivers who go to a bar less than once a month OR are under the age of 25= 26.0 %\n"
     ]
    },
    {
     "name": "stderr",
     "output_type": "stream",
     "text": [
      "C:\\Users\\amhasan1\\AppData\\Local\\Temp\\ipykernel_32008\\738618076.py:9: SettingWithCopyWarning: \n",
      "A value is trying to be set on a copy of a slice from a DataFrame.\n",
      "Try using .loc[row_indexer,col_indexer] = value instead\n",
      "\n",
      "See the caveats in the documentation: https://pandas.pydata.org/pandas-docs/stable/user_guide/indexing.html#returning-a-view-versus-a-copy\n",
      "  filtered_data[\"BarMonthly\"] = filtered_data[\"Bar\"].apply(lambda x: \"more1\" if x not in [\"less1\", \"never\"] else \"less1\")\n"
     ]
    }
   ],
   "source": [
    "BarCoupons.groupby([\"Bar\", \"age\"])[\"Y\"].mean().round(2)\n",
    "## filter out age levels \" below21\" and \"21\"\n",
    "## filter out Bar levels \"never\", \"less1\"\n",
    "# BarCoupons$BarMonthly =ifelse((\"Bar\" isin [\"less1\",\"never\"]), \"less1\",\"more1\")\n",
    "# Filter out rows where age is below 21 or 21\n",
    "filtered_data = BarCoupons[~BarCoupons[\"age\"].isin([\"below21\", \"21\"])]\n",
    "\n",
    "# Create a new column 'BarMonthly' based on bar frequency\n",
    "filtered_data[\"BarMonthly\"] = filtered_data[\"Bar\"].apply(lambda x: \"more1\" if x not in [\"less1\", \"never\"] else \"less1\")\n",
    "\n",
    "# Create two groups: \n",
    "# 1. Drivers who go to a bar more than once a month and are over the age of 25\n",
    "# 2. All other drivers\n",
    "More1_Gt25 = filtered_data[(filtered_data[\"BarMonthly\"] == \"more1\") & (filtered_data[\"age\"] > \"25\")]\n",
    "Less1_Lt25 = filtered_data[(filtered_data[\"BarMonthly\"] == \"less1\") | (filtered_data[\"age\"] <= \"25\")]\n",
    "\n",
    "# Calculate the acceptance rate for both groups\n",
    "Rate1 = More1_Gt25[\"Y\"].mean().round(2)\n",
    "Rate2 = Less1_Lt25[\"Y\"].mean().round(2)\n",
    "\n",
    "# Print results\n",
    "print(f\"Acceptance rate for drivers who go to a bar more than once a month and are over the age of 25= {Rate1*100} %\")\n",
    "print(f\"Acceptance rate for drivers who go to a bar less than once a month OR are under the age of 25= {Rate2*100} %\")"
   ]
  },
  {
   "cell_type": "markdown",
   "metadata": {},
   "source": [
    "## Insight: \n",
    "- Acceptance rate for drivers who go to a bar more than once a month and are over the age of 25= 70.0 %\n",
    "- Acceptance rate for drivers who go to a bar less than once a month OR are under the age of 25= 26.0 %"
   ]
  },
  {
   "cell_type": "code",
   "execution_count": 128,
   "metadata": {
    "id": "sENaI2Tg_qRK"
   },
   "outputs": [
    {
     "name": "stdout",
     "output_type": "stream",
     "text": [
      "The acceptance rate for drivers who go to bars more than once a month, had no kid passengers, and an occupations other than farming,fishing, or forestry= 71.0%\n",
      "The acceptance rate for other drivers= 30.0%\n"
     ]
    }
   ],
   "source": [
    "# Create a new group for drivers who go to bars more than once a month and had passengers that were not a kid\n",
    "# and had occupations other than farming, fishing, or forestry\n",
    "# Let group 3 be the drivers who go to bars more than once a month and had passengers that were not a kid\n",
    "# and had occupations other than farming, fishing, or forestry\n",
    "df =  BarCoupons\n",
    "group3 = df[(df['Bar'].isin(['1~3', '4~8', 'gt8'])) &  # Visit bars more than once a month\n",
    "    (df['passanger'] != 'Kid(s)') &            # Passengers were not kids\n",
    "    (~df['occupation'].isin(['Farming', 'Fishing', 'Forestry']))  # Excluding specific occupations\n",
    "]\n",
    "# group3.head(10)\n",
    "\n",
    "## Creating group 4 by using the complement of the conditions for Group 3\n",
    "group4 = df[~(df['Bar'].isin(['1~3', '4~8', 'gt8'])) | \n",
    "    (df['passanger'] == 'Kid(s)') |            \n",
    "    (df['occupation'].isin(['Farming', 'Fishing', 'Forestry']))  \n",
    "]\n",
    "group4.describe(include=\"object\")\n",
    "group4.head()\n",
    "\n",
    "# Calculate the acceptance rate for both groups\n",
    "Rate3 = group3[\"Y\"].mean().round(2)\n",
    "Rate4 = group4[\"Y\"].mean().round(2)\n",
    "\n",
    "# Print results\n",
    "print(f\"The acceptance rate for drivers who go to bars more than once a month, had no kid passengers, and an occupations other than farming,fishing, or forestry= {Rate3*100}%\")\n",
    "print(f\"The acceptance rate for other drivers= {Rate4*100}%\")"
   ]
  },
  {
   "cell_type": "markdown",
   "metadata": {},
   "source": [
    "## Insights:\n",
    "The acceptance rate for drivers who go to bars more than once a month, had no kid passengers, and an occupations other than farming,fishing, or forestry= 71.0%\n",
    "The acceptance rate for other drivers= 30.0%"
   ]
  },
  {
   "cell_type": "code",
   "execution_count": 133,
   "metadata": {
    "id": "aK_wEzx7_qRK"
   },
   "outputs": [
    {
     "name": "stdout",
     "output_type": "stream",
     "text": [
      "The acceptance rate for drivers who go to bars more than once a month, had passengers that were not a kid, and were not widowed =31.0%\n"
     ]
    }
   ],
   "source": [
    "\n",
    " #   go to bars more than once a month, had passengers that were not a kid, and were not widowed \n",
    "\n",
    "group5 = df[~(df['Bar'].isin(['1~3', '4~8', 'gt8'])) & \n",
    "    ~(df['passanger'] == 'Kid(s)')&           \n",
    "    ~(df['maritalStatus'].isin(['Widowed']))  \n",
    "]\n",
    "group5.describe(include=\"object\")\n",
    "group5.head()\n",
    "\n",
    "# Calculate the acceptance rate for both groups\n",
    "Rate5 = group5[\"Y\"].mean().round(2)\n",
    " #   go to bars more than once a month and are under the age of 30 OR\n",
    " #   go to cheap restaurants more than 4 times a month and income is less than 50K.\n",
    "# Print results\n",
    "print(f\"The acceptance rate for drivers who go to bars more than once a month, had passengers that were not a kid, and were not widowed ={Rate5 *100}%\")"
   ]
  },
  {
   "cell_type": "markdown",
   "metadata": {},
   "source": [
    "# Insight:\n",
    "- The acceptance rate for drivers who go to bars more than once a month, had passengers that were not a kid, and were not widowed =31.0%"
   ]
  },
  {
   "cell_type": "code",
   "execution_count": 138,
   "metadata": {
    "id": "aK_wEzx7_qRK"
   },
   "outputs": [
    {
     "name": "stdout",
     "output_type": "stream",
     "text": [
      "The acceptance rate for frequent restaurant visitors earning less than $50K: 39.0%\n"
     ]
    }
   ],
   "source": [
    "restaurant_frequent_visitors = df[~(df['RestaurantLessThan20'].isin(['4~8', 'gt8'])) & \n",
    "    (df['income'].isin(['$25000 - $37499', '$12500 - $24999',  '$37500 - $49999' ]))  \n",
    "]\n",
    "restaurant_frequent_visitors.describe(include=\"object\")\n",
    "restaurant_frequent_visitors.head()\n",
    "\n",
    "# Calculate the acceptance rate for the specified group\n",
    "acceptance_rate_restaurant_visitors = restaurant_frequent_visitors[\"Y\"].mean().round(2)\n",
    "\n",
    "# Print results with descriptive text\n",
    "print(f\"The acceptance rate for frequent restaurant visitors earning less than $50K: {acceptance_rate_restaurant_visitors*100}%\")\n"
   ]
  },
  {
   "cell_type": "markdown",
   "metadata": {},
   "source": [
    "## Insight:\n",
    "#### The acceptance rate for frequent restaurant visitors earning less than $50K: 39%\n"
   ]
  },
  {
   "cell_type": "code",
   "execution_count": 191,
   "metadata": {},
   "outputs": [
    {
     "data": {
      "image/png": "[encoded data removed]",
      "text/plain": [
       "<Figure size 1000x500 with 1 Axes>"
      ]
     },
     "metadata": {},
     "output_type": "display_data"
    },
    {
     "data": {
      "image/png": "[encoded data removed]",
      "text/plain": [
       "<Figure size 1000x500 with 1 Axes>"
      ]
     },
     "metadata": {},
     "output_type": "display_data"
    }
   ],
   "source": [
    "\n",
    "# Plot income distribution\n",
    "income_counts = df['income'].value_counts()\n",
    "income_counts.plot(kind='bar', figsize=(10, 5), title='Income Distribution', ylabel='Count', xlabel='Income Brackets')\n",
    "plt.show()\n",
    "\n",
    "# Plot RestaurantLessThan20 distribution\n",
    "restaurant_counts = df['RestaurantLessThan20'].value_counts()\n",
    "restaurant_counts.plot(kind='bar', figsize=(10, 5), title='Frequency of Restaurant Visits', ylabel='Count', xlabel='Visit Frequency')\n",
    "plt.show()\n"
   ]
  },
  {
   "cell_type": "code",
   "execution_count": 144,
   "metadata": {},
   "outputs": [
    {
     "data": {
      "text/plain": [
       "RestaurantLessThan20\n",
       "1~3      901\n",
       "4~8      568\n",
       "less1    325\n",
       "gt8      186\n",
       "never     37\n",
       "Name: count, dtype: int64"
      ]
     },
     "metadata": {},
     "output_type": "display_data"
    },
    {
     "data": {
      "image/png": "[encoded data removed]",
      "text/plain": [
       "<Figure size 400x300 with 1 Axes>"
      ]
     },
     "metadata": {},
     "output_type": "display_data"
    }
   ],
   "source": [
    "display(df['RestaurantLessThan20'].value_counts())\n",
    "df['RestaurantLessThan20'].value_counts().plot(kind = \"bar\");"
   ]
  },
  {
   "cell_type": "code",
   "execution_count": 160,
   "metadata": {
    "id": "aK_wEzx7_qRK"
   },
   "outputs": [
    {
     "name": "stdout",
     "output_type": "stream",
     "text": [
      "Acceptance rate for drivers who go to cheap restaurants more than 4 times a month and income is less than 50K= 39.0%\n"
     ]
    }
   ],
   "source": [
    "\n",
    " # go to cheap restaurants more than 4 times a month and income is less than 50K.\n",
    "\n",
    "group6 = df[~(df['RestaurantLessThan20'].isin(['4~8', 'gt8'])) & \n",
    "    (df['income'].isin(['$25000 - $37499', '$12500 - $24999',  '$37500 - $49999'  ])) ]\n",
    "# group6.describe(include=\"object\")\n",
    "\n",
    "# Calculate the acceptance rate for both groups\n",
    "Rate6 = group6[\"Y\"].mean().round(2)\n",
    " #   go to bars more than once a month and are under the age of 30 OR\n",
    " #   go to cheap restaurants more than 4 times a month and income is less than 50K.\n",
    "# Print results\n",
    "print(f\"Acceptance rate for drivers who go to cheap restaurants more than 4 times a month and income is less than 50K= {Rate6*100}%\")"
   ]
  },
  {
   "cell_type": "markdown",
   "metadata": {},
   "source": [
    "## Insight:\n",
    "### Acceptance rate for drivers who go to cheap restaurants more than 4 times a month and income is less than 50K= 39.0%"
   ]
  },
  {
   "cell_type": "markdown",
   "metadata": {
    "id": "0c71cQhu_qRL"
   },
   "source": [
    "## Free Exploration of the Coffee House Copouns"
   ]
  },
  {
   "cell_type": "code",
   "execution_count": 271,
   "metadata": {
    "id": "QEsBkvIN_qRL"
   },
   "outputs": [
    {
     "data": {
      "text/html": [
       "<div>\n",
       "<style scoped>\n",
       "    .dataframe tbody tr th:only-of-type {\n",
       "        vertical-align: middle;\n",
       "    }\n",
       "\n",
       "    .dataframe tbody tr th {\n",
       "        vertical-align: top;\n",
       "    }\n",
       "\n",
       "    .dataframe thead th {\n",
       "        text-align: right;\n",
       "    }\n",
       "</style>\n",
       "<table border=\"1\" class=\"dataframe\">\n",
       "  <thead>\n",
       "    <tr style=\"text-align: right;\">\n",
       "      <th></th>\n",
       "      <th>destination</th>\n",
       "      <th>passanger</th>\n",
       "      <th>weather</th>\n",
       "      <th>time</th>\n",
       "      <th>coupon</th>\n",
       "      <th>expiration</th>\n",
       "      <th>gender</th>\n",
       "      <th>age</th>\n",
       "      <th>maritalStatus</th>\n",
       "      <th>education</th>\n",
       "      <th>occupation</th>\n",
       "      <th>income</th>\n",
       "      <th>car</th>\n",
       "      <th>Bar</th>\n",
       "      <th>CoffeeHouse</th>\n",
       "      <th>CarryAway</th>\n",
       "      <th>RestaurantLessThan20</th>\n",
       "      <th>Restaurant20To50</th>\n",
       "    </tr>\n",
       "  </thead>\n",
       "  <tbody>\n",
       "    <tr>\n",
       "      <th>count</th>\n",
       "      <td>3996</td>\n",
       "      <td>3996</td>\n",
       "      <td>3996</td>\n",
       "      <td>3996</td>\n",
       "      <td>3996</td>\n",
       "      <td>3996</td>\n",
       "      <td>3996</td>\n",
       "      <td>3996</td>\n",
       "      <td>3996</td>\n",
       "      <td>3996</td>\n",
       "      <td>3996</td>\n",
       "      <td>3996</td>\n",
       "      <td>37</td>\n",
       "      <td>3996</td>\n",
       "      <td>3996</td>\n",
       "      <td>3996</td>\n",
       "      <td>3996</td>\n",
       "      <td>3996</td>\n",
       "    </tr>\n",
       "    <tr>\n",
       "      <th>unique</th>\n",
       "      <td>3</td>\n",
       "      <td>4</td>\n",
       "      <td>3</td>\n",
       "      <td>5</td>\n",
       "      <td>1</td>\n",
       "      <td>2</td>\n",
       "      <td>2</td>\n",
       "      <td>8</td>\n",
       "      <td>5</td>\n",
       "      <td>6</td>\n",
       "      <td>25</td>\n",
       "      <td>9</td>\n",
       "      <td>5</td>\n",
       "      <td>5</td>\n",
       "      <td>5</td>\n",
       "      <td>5</td>\n",
       "      <td>5</td>\n",
       "      <td>5</td>\n",
       "    </tr>\n",
       "    <tr>\n",
       "      <th>top</th>\n",
       "      <td>No Urgent Place</td>\n",
       "      <td>Alone</td>\n",
       "      <td>Sunny</td>\n",
       "      <td>6PM</td>\n",
       "      <td>Coffee House</td>\n",
       "      <td>2h</td>\n",
       "      <td>Female</td>\n",
       "      <td>21</td>\n",
       "      <td>Single</td>\n",
       "      <td>Some college - no degree</td>\n",
       "      <td>Unemployed</td>\n",
       "      <td>$25000 - $37499</td>\n",
       "      <td>Scooter and motorcycle</td>\n",
       "      <td>never</td>\n",
       "      <td>less1</td>\n",
       "      <td>1~3</td>\n",
       "      <td>1~3</td>\n",
       "      <td>less1</td>\n",
       "    </tr>\n",
       "    <tr>\n",
       "      <th>freq</th>\n",
       "      <td>2155</td>\n",
       "      <td>2256</td>\n",
       "      <td>3467</td>\n",
       "      <td>1093</td>\n",
       "      <td>3996</td>\n",
       "      <td>2227</td>\n",
       "      <td>2051</td>\n",
       "      <td>883</td>\n",
       "      <td>1550</td>\n",
       "      <td>1371</td>\n",
       "      <td>570</td>\n",
       "      <td>640</td>\n",
       "      <td>10</td>\n",
       "      <td>1673</td>\n",
       "      <td>1147</td>\n",
       "      <td>1553</td>\n",
       "      <td>1729</td>\n",
       "      <td>1924</td>\n",
       "    </tr>\n",
       "  </tbody>\n",
       "</table>\n",
       "</div>"
      ],
      "text/plain": [
       "            destination passanger weather  time        coupon expiration  \\\n",
       "count              3996      3996    3996  3996          3996       3996   \n",
       "unique                3         4       3     5             1          2   \n",
       "top     No Urgent Place     Alone   Sunny   6PM  Coffee House         2h   \n",
       "freq               2155      2256    3467  1093          3996       2227   \n",
       "\n",
       "        gender   age maritalStatus                 education  occupation  \\\n",
       "count     3996  3996          3996                      3996        3996   \n",
       "unique       2     8             5                         6          25   \n",
       "top     Female    21        Single  Some college - no degree  Unemployed   \n",
       "freq      2051   883          1550                      1371         570   \n",
       "\n",
       "                 income                     car    Bar CoffeeHouse CarryAway  \\\n",
       "count              3996                      37   3996        3996      3996   \n",
       "unique                9                       5      5           5         5   \n",
       "top     $25000 - $37499  Scooter and motorcycle  never       less1       1~3   \n",
       "freq                640                      10   1673        1147      1553   \n",
       "\n",
       "       RestaurantLessThan20 Restaurant20To50  \n",
       "count                  3996             3996  \n",
       "unique                    5                5  \n",
       "top                     1~3            less1  \n",
       "freq                   1729             1924  "
      ]
     },
     "execution_count": 271,
     "metadata": {},
     "output_type": "execute_result"
    }
   ],
   "source": [
    "Coffee_DF =data[data[\"coupon\"]==\"Coffee House\"]\n",
    "Coffee_DF.describe(include=\"object\")\n",
    "## Exploring those who accept the coffee copouns\n",
    "#Accept_Coffee_DF =Coffee_DF [Coffee_DF[\"Y\"]==\"1\"]\n",
    "# Accept_Coffee_DF.describe(include=\"object\")"
   ]
  },
  {
   "cell_type": "code",
   "execution_count": 226,
   "metadata": {
    "id": "fTC2WGE3_qRL"
   },
   "outputs": [
    {
     "name": "stdout",
     "output_type": "stream",
     "text": [
      "The overall coffee coupon acceptance rate= 50.0 %\n"
     ]
    }
   ],
   "source": [
    "acceptance_rate= Coffee_DF[\"Y\"].mean().round(2)\n",
    "# Print results with descriptive text\n",
    "print(f\"The overall coffee coupon acceptance rate= {acceptance_rate*100} %\")"
   ]
  },
  {
   "cell_type": "markdown",
   "metadata": {},
   "source": [
    "## Insight: The overall coffee coupon acceptance rate= 49.9 %"
   ]
  },
  {
   "cell_type": "code",
   "execution_count": 355,
   "metadata": {
    "id": "RrqUWn7d_qRL"
   },
   "outputs": [
    {
     "name": "stdout",
     "output_type": "stream",
     "text": [
      "The overall coffee coupon acceptance rate for single, unemployed females= 56.00000000000001 %\n"
     ]
    }
   ],
   "source": [
    "Single_Unemployed_F= Coffee_DF[(Coffee_DF['gender']==('Female'))& \n",
    "(Coffee_DF['maritalStatus']==('Single')) &\n",
    "(Coffee_DF['occupation']==('Unemployed'))]\n",
    "Rate=Single_Unemployed_F[\"Y\"].mean().round(2)\n",
    "print(f\"The overall coffee coupon acceptance rate for single, unemployed females= {Rate*100} %\")"
   ]
  },
  {
   "cell_type": "code",
   "execution_count": 357,
   "metadata": {
    "id": "_oykf8YP_qRL"
   },
   "outputs": [
    {
     "name": "stdout",
     "output_type": "stream",
     "text": [
      "The overall coffee coupon acceptance rate for single, unemployed females who never go to bars= 50.0 %\n"
     ]
    }
   ],
   "source": [
    "Single_Unemployed_F_Never= Coffee_DF[(Coffee_DF['gender']==('Female'))& \n",
    "(Coffee_DF['maritalStatus']==('Single')) &\n",
    "(Coffee_DF['occupation']==('Unemployed'))&\n",
    "(Coffee_DF['Bar']==('never'))]\n",
    "Rate1=Single_Unemployed_F_Never[\"Y\"].mean().round(2)\n",
    "print(f\"The overall coffee coupon acceptance rate for single, unemployed females who never go to bars= {Rate1*100} %\")"
   ]
  },
  {
   "cell_type": "code",
   "execution_count": 359,
   "metadata": {},
   "outputs": [
    {
     "name": "stdout",
     "output_type": "stream",
     "text": [
      "The coffee coupon acceptance rate for single, unemployed females who are 21 years old= 59.0 %\n"
     ]
    }
   ],
   "source": [
    "Single_Unemployed_F_21= Coffee_DF[(Coffee_DF['gender']==('Female'))& \n",
    "(Coffee_DF['maritalStatus']==('Single')) &\n",
    "(Coffee_DF['occupation']==('Unemployed'))&\n",
    "(Coffee_DF['age']==('21'))]\n",
    "Rate2=Single_Unemployed_F_21[\"Y\"].mean().round(2)\n",
    "print(f\"The coffee coupon acceptance rate for single, unemployed females who are 21 years old= {Rate2*100} %\")"
   ]
  },
  {
   "cell_type": "code",
   "execution_count": 361,
   "metadata": {},
   "outputs": [
    {
     "name": "stdout",
     "output_type": "stream",
     "text": [
      "The overall coffee coupon acceptance rate for single, unemployed females who are 21 years old= 52.0 %\n"
     ]
    }
   ],
   "source": [
    "Single_Sunny= Coffee_DF[(Coffee_DF['maritalStatus']==('Single')) & (Coffee_DF['weather']==('Sunny'))]\n",
    "RateSS = Single_Sunny [\"Y\"].mean().round(2)\n",
    "print(f\"The overall coffee coupon acceptance rate for single, unemployed females who are 21 years old= {RateSS*100} %\")"
   ]
  },
  {
   "cell_type": "code",
   "execution_count": 363,
   "metadata": {},
   "outputs": [
    {
     "name": "stdout",
     "output_type": "stream",
     "text": [
      "The overall coffee coupon acceptance rate for single drivers on a sunny day = 52.0 %\n"
     ]
    }
   ],
   "source": [
    "Single_Sunny= Coffee_DF[\n",
    "(Coffee_DF['maritalStatus']==('Single')) &\n",
    "(Coffee_DF['weather']==('Sunny'))]\n",
    "Rate3= Single_Sunny[\"Y\"].mean().round(2)\n",
    "print(f\"The overall coffee coupon acceptance rate for single drivers on a sunny day = {Rate3*100} %\")"
   ]
  },
  {
   "cell_type": "code",
   "execution_count": 365,
   "metadata": {},
   "outputs": [
    {
     "name": "stdout",
     "output_type": "stream",
     "text": [
      "The overall coffee coupon acceptance rate on a sunny day for an alone driver = 43.0 %\n"
     ]
    }
   ],
   "source": [
    "Sunny_Alone= Coffee_DF[(Coffee_DF['weather']==('Sunny'))& (Coffee_DF['passanger']==('Alone'))]\n",
    "Rate4= Sunny_Alone[\"Y\"].mean().round(2)\n",
    "print(f\"The overall coffee coupon acceptance rate on a sunny day for an alone driver = {Rate4*100} %\")"
   ]
  },
  {
   "cell_type": "code",
   "execution_count": 367,
   "metadata": {},
   "outputs": [
    {
     "name": "stdout",
     "output_type": "stream",
     "text": [
      "The coffee coupon acceptance rate for drivers with income '$100000 or More' is 49.0 %\n",
      "The coffee coupon acceptance rate for drivers with income '$12500 - $24999' is 54.0 %\n",
      "The coffee coupon acceptance rate for drivers with income '$25000 - $37499' is 47.0 %\n",
      "The coffee coupon acceptance rate for drivers with income '$37500 - $49999' is 54.0 %\n",
      "The coffee coupon acceptance rate for drivers with income '$50000 - $62499' is 50.0 %\n",
      "The coffee coupon acceptance rate for drivers with income '$62500 - $74999' is 44.0 %\n",
      "The coffee coupon acceptance rate for drivers with income '$75000 - $87499' is 30.0 %\n",
      "The coffee coupon acceptance rate for drivers with income '$87500 - $99999' is 56.00000000000001 %\n",
      "The coffee coupon acceptance rate for drivers with income 'Less than $12500' is 55.00000000000001 %\n"
     ]
    }
   ],
   "source": [
    "# Calculate the acceptance rate for each income level\n",
    "income_acceptance_rates = Coffee_DF.groupby('income')[\"Y\"].mean().round(2)\n",
    "\n",
    "# Print the results with descriptive text for each income level\n",
    "for income_level, rate in income_acceptance_rates.items():\n",
    "    print(f\"The coffee coupon acceptance rate for drivers with income '{income_level}' is {rate*100} %\")"
   ]
  },
  {
   "cell_type": "code",
   "execution_count": 369,
   "metadata": {},
   "outputs": [
    {
     "name": "stdout",
     "output_type": "stream",
     "text": [
      "The coffee coupon acceptance rate for drivers with income '$100000 or More' is 44.0 %\n",
      "The coffee coupon acceptance rate for drivers with income '$12500 - $24999' is 47.0 %\n",
      "The coffee coupon acceptance rate for drivers with income '$25000 - $37499' is 39.0 %\n",
      "The coffee coupon acceptance rate for drivers with income '$37500 - $49999' is 46.0 %\n",
      "The coffee coupon acceptance rate for drivers with income '$50000 - $62499' is 42.0 %\n",
      "The coffee coupon acceptance rate for drivers with income '$62500 - $74999' is 41.0 %\n",
      "The coffee coupon acceptance rate for drivers with income '$75000 - $87499' is 26.0 %\n",
      "The coffee coupon acceptance rate for drivers with income '$87500 - $99999' is 50.0 %\n",
      "The coffee coupon acceptance rate for drivers with income 'Less than $12500' is 47.0 %\n"
     ]
    }
   ],
   "source": [
    "# Calculate the acceptance rate for each income level on a sunny day when the driver is alone\n",
    "income_acceptance_rates = Sunny_Alone.groupby('income')[\"Y\"].mean().round(2)\n",
    "\n",
    "# Print the results with descriptive text for each income level\n",
    "for income_level, rate in income_acceptance_rates.items():\n",
    "    print(f\"The coffee coupon acceptance rate for drivers with income '{income_level}' is {rate*100} %\")"
   ]
  },
  {
   "cell_type": "markdown",
   "metadata": {},
   "source": [
    "## Insights: \n",
    "- The overall coffee coupon acceptance rate= 50.0 %\n",
    "- The coffee coupon acceptance rate for single, unemployed females who are 21 years old= 59.0 %\n",
    "- No clear trend with income levels. "
   ]
  },
  {
   "cell_type": "code",
   "execution_count": null,
   "metadata": {},
   "outputs": [],
   "source": []
  }
 ],
 "metadata": {
  "colab": {
   "provenance": []
  },
  "kernelspec": {
   "display_name": "Python 3 (ipykernel)",
   "language": "python",
   "name": "python3"
  },
  "language_info": {
   "codemirror_mode": {
    "name": "ipython",
    "version": 3
   },
   "file_extension": ".py",
   "mimetype": "text/x-python",
   "name": "python",
   "nbconvert_exporter": "python",
   "pygments_lexer": "ipython3",
   "version": "3.11.7"
  },
  "widgets": {
   "application/vnd.jupyter.widget-state+json": {
    "state": {},
    "version_major": 2,
    "version_minor": 0
   }
  }
 },
 "nbformat": 4,
 "nbformat_minor": 4
}
